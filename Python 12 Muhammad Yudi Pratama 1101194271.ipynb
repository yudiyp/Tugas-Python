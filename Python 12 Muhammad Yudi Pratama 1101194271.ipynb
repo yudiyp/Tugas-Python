{
  "nbformat": 4,
  "nbformat_minor": 0,
  "metadata": {
    "colab": {
      "name": "Untitled0.ipynb",
      "provenance": [],
      "authorship_tag": "ABX9TyOCvP6eNA6XlgiTvVFh8N3h",
      "include_colab_link": true
    },
    "kernelspec": {
      "name": "python3",
      "display_name": "Python 3"
    }
  },
  "cells": [
    {
      "cell_type": "markdown",
      "metadata": {
        "id": "view-in-github",
        "colab_type": "text"
      },
      "source": [
        "<a href=\"https://colab.research.google.com/github/yudiyp/Tugas-Python/blob/main/Python%2012%20Muhammad%20Yudi%20Pratama%201101194271.ipynb\" target=\"_parent\"><img src=\"https://colab.research.google.com/assets/colab-badge.svg\" alt=\"Open In Colab\"/></a>"
      ]
    },
    {
      "cell_type": "code",
      "metadata": {
        "id": "RV-GgKnJsMgc"
      },
      "source": [
        "import numpy as np\r\n",
        "def pathloss(C1,C2,d,fc,htx,hrx) :\r\n",
        "        \r\n",
        "    if X == '1' :\r\n",
        "        Cm = 0\r\n",
        "    elif X == '2' :\r\n",
        "        Cm = -2*(np.log(fc/28))**2-5.4\r\n",
        "    else:\r\n",
        "        Cm = -4.78*(np.log(fc))**2 + 18.33*np.log(fc) - 40.94\r\n",
        "    \r\n",
        "    ahr = (1.1*np.log(fc) - 0.7)*hrx - (1.56*np.log(fc) - 0.8)\r\n",
        "    \r\n",
        "    Lp = C1 + C2 * np.log(fc) - 13.83*np.log(htx) - ahr + (44.9 - 6.55*np.log(htx)*np.log(d) + Cm)\r\n",
        "    \r\n",
        "    return Lp"
      ],
      "execution_count": 2,
      "outputs": []
    },
    {
      "cell_type": "code",
      "metadata": {
        "colab": {
          "base_uri": "https://localhost:8080/"
        },
        "id": "Pa2Z385ZsVqI",
        "outputId": "defef8dd-5832-458b-b37d-3ab9e7fbfa12"
      },
      "source": [
        "fc = (int(input('Masukan nilai frekuensi (dalam MHz) : ')))\r\n",
        "d = (int(input('Masukan nilai Jarak (dalam KM): ')))\r\n",
        "htx = (int(input('Masukan nilai Tinggi pemancar (dalam Meter) : ')))\r\n",
        "hrx = (int(input('Masukan nilai Tinggi penerima (dalam Meter) : ')))\r\n",
        "X = (int(input('Pilih Tipe area : \\n 1.Urban \\n 2.Daerah Suburban \\n 3.Derah Open \\n Pilih :')))\r\n",
        "\r\n",
        "if fc >= 400 and fc <= 1500 :\r\n",
        "    C1 = 69.55\r\n",
        "    C2 = 26.16\r\n",
        "elif fc > 1500 and fc <=2000 :\r\n",
        "    C1 = 46.3\r\n",
        "    C2 = 33.9\r\n",
        "    \r\n",
        "hasil = pathloss(C1,C2,d,fc,htx,hrx)\r\n",
        "print('Nilai Pathloss adalah',hasil,'db')"
      ],
      "execution_count": 5,
      "outputs": [
        {
          "output_type": "stream",
          "text": [
            "Masukan nilai frekuensi (dalam MHz) : 300\n",
            "Masukan nilai Jarak (dalam KM): 1\n",
            "Masukan nilai Tinggi pemancar (dalam Meter) : 30\n",
            "Masukan nilai Tinggi penerima (dalam Meter) : 1\n",
            "Pilih Tipe area : \n",
            " 1.Urban \n",
            " 2.Daerah Suburban \n",
            " 3.Derah Open \n",
            " Pilih :1\n",
            "Nilai Pathloss adalah 127.24807945043551 db\n"
          ],
          "name": "stdout"
        }
      ]
    }
  ]
}